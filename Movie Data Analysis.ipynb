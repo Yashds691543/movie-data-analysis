{
 "cells": [
  {
   "cell_type": "code",
   "execution_count": 1,
   "id": "e57682ed-20c2-4a2b-8039-a89904ee68a9",
   "metadata": {},
   "outputs": [],
   "source": [
    "import pandas\n",
    "\n",
    "# Load individual tables\n",
    "users = pandas.read_csv('/Users/yashds/Downloads/movielens/users.csv')\n",
    "ratings = pandas.read_csv('/Users/yashds/Downloads/movielens/ratings.csv')\n",
    "movies = pandas.read_csv('/Users/yashds/Downloads/movielens/movies.csv')\n",
    "\n",
    "# Merge tables\n",
    "mr = pandas.merge(users, ratings)\n",
    "data = pandas.merge(movies, mr)"
   ]
  },
  {
   "cell_type": "markdown",
   "id": "8a2389f6-94b3-498c-9226-4c1ab53f63c4",
   "metadata": {},
   "source": [
    "\n",
    "### What are the top-10 best rated genres?\n"
   ]
  },
  {
   "cell_type": "markdown",
   "id": "325b159d-8a28-497a-830e-653022c722e1",
   "metadata": {},
   "source": [
    "Steps to carry out:\n",
    "\n",
    "+ group the dataset by the genres of movies.\n",
    "+ calculate the mean rating for each genre.\n",
    "+ sort the genres in descending order of the mean rating, so that the highest rated genres appear at the top"
   ]
  },
  {
   "cell_type": "code",
   "execution_count": 2,
   "id": "e0c79beb-b338-4e7c-a681-cbf0a632bfc2",
   "metadata": {},
   "outputs": [
    {
     "data": {
      "text/plain": [
       "genres\n",
       "Animation|Comedy|Thriller            4.473837\n",
       "Sci-Fi|War                           4.449890\n",
       "Animation                            4.394336\n",
       "Film-Noir|Mystery                    4.367424\n",
       "Adventure|War                        4.346107\n",
       "Film-Noir|Romance|Thriller           4.294382\n",
       "Action|Adventure|Drama|Sci-Fi|War    4.292977\n",
       "Film-Noir|Sci-Fi                     4.273333\n",
       "Crime|Film-Noir                      4.264129\n",
       "Film-Noir                            4.258105\n",
       "Name: rating, dtype: float64"
      ]
     },
     "execution_count": 2,
     "metadata": {},
     "output_type": "execute_result"
    }
   ],
   "source": [
    "df = data.groupby(['genres'])['rating'].mean().sort_values(ascending=False)[0:10]\n",
    "df"
   ]
  },
  {
   "cell_type": "markdown",
   "id": "fe256a52-766f-4e23-9e1b-3cab3b2237ca",
   "metadata": {},
   "source": [
    "Report: This output shows the top 10 genres, with \"Animation|Comedy|Thriller\" being the highest rated genre and \"Film-Noir\"  being the lowest rated among the top 10. \n",
    "The mean rating for each genre is shown next to the genre name."
   ]
  },
  {
   "cell_type": "markdown",
   "id": "650a32c6-f0b5-4aa9-8550-fe59a768b32a",
   "metadata": {},
   "source": [
    "\n",
    "\n",
    "### Here we are only interested in popular genres, each of which has at least 5000 ratings. What are the top-5 best rated genres among these popular genres?"
   ]
  },
  {
   "cell_type": "markdown",
   "id": "83627c06-aba7-4360-b82c-cb260b90f454",
   "metadata": {},
   "source": [
    "Steps to carry out:\n",
    "+ We can then count the number of ratings and filter for genres with at least 5000 ratings\n",
    "+ Then we calculate the average rating for each of these popular genres and sort them in descending order to get the top-5 best rated genres."
   ]
  },
  {
   "cell_type": "code",
   "execution_count": 5,
   "id": "53ba69ad-29b2-449c-a1f7-84a728d04a55",
   "metadata": {},
   "outputs": [
    {
     "data": {
      "text/plain": [
       "genres\n",
       "Action|Crime|Drama    4.110883\n",
       "Drama|War             4.098936\n",
       "Action|Drama|War      4.047693\n",
       "Drama|Romance|War     3.962780\n",
       "Documentary           3.960734\n",
       "Name: rating, dtype: float64"
      ]
     },
     "execution_count": 5,
     "metadata": {},
     "output_type": "execute_result"
    }
   ],
   "source": [
    "genres_counts = data.groupby('genres')['rating'].count()\n",
    "popular_genres = genres_counts[genres_counts >= 5000].index\n",
    "popular_genres.columns = ['rating', 'num_ratings']\n",
    "genre_avg_ratings = data[data['genres'].isin(popular_genres)].groupby('genres')['rating'].mean()\n",
    "top_5_genres = genre_avg_ratings.sort_values(ascending=False)[0:5]\n",
    "top_5_genres\n"
   ]
  },
  {
   "cell_type": "markdown",
   "id": "a910413d-9654-4c5a-a32d-a35171a005df",
   "metadata": {},
   "source": [
    "Report: The top-5 best rated genres among the popular genres in the MovieLens dataset are:\n",
    "\n",
    "+ Action|Crime|Drama   \n",
    "+ Drama|War             \n",
    "+ Action|Drama|War      \n",
    "+ Drama|Romance|War     \n",
    "+ Documentary"
   ]
  },
  {
   "cell_type": "markdown",
   "id": "cb4a1a54-8b16-4bbe-b173-3e1f96a8341f",
   "metadata": {},
   "source": [
    "\n",
    "\n",
    "### Among the top-5 best rated genres you found in the previous problem, what are the top-20 best rated movies, each of which has at least 100 reviews?"
   ]
  },
  {
   "cell_type": "markdown",
   "id": "edf6406a-54a5-412f-b873-b5cc9e2a5f0b",
   "metadata": {},
   "source": [
    "Steps to carry out:\n",
    "\n",
    "+ Merge dataframe to include only the movies from the top-5 best rated genres found in the previous problem.\n",
    "+ Group the data by title and calculate the average rating and the number of ratings for each movie.\n",
    "+ Filter the movies to include only those with at least 100 reviews.\n",
    "+ Sort the movies by their average rating in descending order.\n"
   ]
  },
  {
   "cell_type": "code",
   "execution_count": 6,
   "id": "564c0252-b56f-42fb-98eb-0c699b4eddfa",
   "metadata": {
    "tags": []
   },
   "outputs": [
    {
     "data": {
      "text/html": [
       "<div>\n",
       "<style scoped>\n",
       "    .dataframe tbody tr th:only-of-type {\n",
       "        vertical-align: middle;\n",
       "    }\n",
       "\n",
       "    .dataframe tbody tr th {\n",
       "        vertical-align: top;\n",
       "    }\n",
       "\n",
       "    .dataframe thead th {\n",
       "        text-align: right;\n",
       "    }\n",
       "</style>\n",
       "<table border=\"1\" class=\"dataframe\">\n",
       "  <thead>\n",
       "    <tr style=\"text-align: right;\">\n",
       "      <th></th>\n",
       "      <th>avg_rating</th>\n",
       "      <th>num_ratings</th>\n",
       "    </tr>\n",
       "    <tr>\n",
       "      <th>title</th>\n",
       "      <th></th>\n",
       "      <th></th>\n",
       "    </tr>\n",
       "  </thead>\n",
       "  <tbody>\n",
       "    <tr>\n",
       "      <th>Godfather, The (1972)</th>\n",
       "      <td>4.524966</td>\n",
       "      <td>2223</td>\n",
       "    </tr>\n",
       "    <tr>\n",
       "      <th>Schindler's List (1993)</th>\n",
       "      <td>4.510417</td>\n",
       "      <td>2304</td>\n",
       "    </tr>\n",
       "    <tr>\n",
       "      <th>Paths of Glory (1957)</th>\n",
       "      <td>4.473913</td>\n",
       "      <td>230</td>\n",
       "    </tr>\n",
       "    <tr>\n",
       "      <th>Casablanca (1942)</th>\n",
       "      <td>4.412822</td>\n",
       "      <td>1669</td>\n",
       "    </tr>\n",
       "    <tr>\n",
       "      <th>Bridge on the River Kwai, The (1957)</th>\n",
       "      <td>4.386994</td>\n",
       "      <td>938</td>\n",
       "    </tr>\n",
       "    <tr>\n",
       "      <th>Godfather: Part II, The (1974)</th>\n",
       "      <td>4.357565</td>\n",
       "      <td>1692</td>\n",
       "    </tr>\n",
       "    <tr>\n",
       "      <th>Grand Illusion (Grande illusion, La) (1937)</th>\n",
       "      <td>4.339394</td>\n",
       "      <td>165</td>\n",
       "    </tr>\n",
       "    <tr>\n",
       "      <th>Saving Private Ryan (1998)</th>\n",
       "      <td>4.337354</td>\n",
       "      <td>2653</td>\n",
       "    </tr>\n",
       "    <tr>\n",
       "      <th>When We Were Kings (1996)</th>\n",
       "      <td>4.321300</td>\n",
       "      <td>277</td>\n",
       "    </tr>\n",
       "    <tr>\n",
       "      <th>Boat, The (Das Boot) (1981)</th>\n",
       "      <td>4.302697</td>\n",
       "      <td>1001</td>\n",
       "    </tr>\n",
       "    <tr>\n",
       "      <th>Henry V (1989)</th>\n",
       "      <td>4.286385</td>\n",
       "      <td>426</td>\n",
       "    </tr>\n",
       "    <tr>\n",
       "      <th>Kagemusha (1980)</th>\n",
       "      <td>4.283688</td>\n",
       "      <td>141</td>\n",
       "    </tr>\n",
       "    <tr>\n",
       "      <th>Ran (1985)</th>\n",
       "      <td>4.268908</td>\n",
       "      <td>357</td>\n",
       "    </tr>\n",
       "    <tr>\n",
       "      <th>Patton (1970)</th>\n",
       "      <td>4.266667</td>\n",
       "      <td>645</td>\n",
       "    </tr>\n",
       "    <tr>\n",
       "      <th>Thin Blue Line, The (1988)</th>\n",
       "      <td>4.252788</td>\n",
       "      <td>269</td>\n",
       "    </tr>\n",
       "    <tr>\n",
       "      <th>Killing Fields, The (1984)</th>\n",
       "      <td>4.248634</td>\n",
       "      <td>732</td>\n",
       "    </tr>\n",
       "    <tr>\n",
       "      <th>Apocalypse Now (1979)</th>\n",
       "      <td>4.243197</td>\n",
       "      <td>1176</td>\n",
       "    </tr>\n",
       "    <tr>\n",
       "      <th>Braveheart (1995)</th>\n",
       "      <td>4.234957</td>\n",
       "      <td>2443</td>\n",
       "    </tr>\n",
       "    <tr>\n",
       "      <th>Stop Making Sense (1984)</th>\n",
       "      <td>4.234310</td>\n",
       "      <td>239</td>\n",
       "    </tr>\n",
       "    <tr>\n",
       "      <th>Stalag 17 (1953)</th>\n",
       "      <td>4.228426</td>\n",
       "      <td>394</td>\n",
       "    </tr>\n",
       "  </tbody>\n",
       "</table>\n",
       "</div>"
      ],
      "text/plain": [
       "                                             avg_rating  num_ratings\n",
       "title                                                               \n",
       "Godfather, The (1972)                          4.524966         2223\n",
       "Schindler's List (1993)                        4.510417         2304\n",
       "Paths of Glory (1957)                          4.473913          230\n",
       "Casablanca (1942)                              4.412822         1669\n",
       "Bridge on the River Kwai, The (1957)           4.386994          938\n",
       "Godfather: Part II, The (1974)                 4.357565         1692\n",
       "Grand Illusion (Grande illusion, La) (1937)    4.339394          165\n",
       "Saving Private Ryan (1998)                     4.337354         2653\n",
       "When We Were Kings (1996)                      4.321300          277\n",
       "Boat, The (Das Boot) (1981)                    4.302697         1001\n",
       "Henry V (1989)                                 4.286385          426\n",
       "Kagemusha (1980)                               4.283688          141\n",
       "Ran (1985)                                     4.268908          357\n",
       "Patton (1970)                                  4.266667          645\n",
       "Thin Blue Line, The (1988)                     4.252788          269\n",
       "Killing Fields, The (1984)                     4.248634          732\n",
       "Apocalypse Now (1979)                          4.243197         1176\n",
       "Braveheart (1995)                              4.234957         2443\n",
       "Stop Making Sense (1984)                       4.234310          239\n",
       "Stalag 17 (1953)                               4.228426          394"
      ]
     },
     "execution_count": 6,
     "metadata": {},
     "output_type": "execute_result"
    }
   ],
   "source": [
    "df = data[data['genres'].isin(top_5_genres.index)]\n",
    "df5 = df.groupby(['title'])['rating'].agg(['mean', 'count'])\n",
    "df5.columns = ['avg_rating', 'num_ratings']\n",
    "popular_movies = df5[df5['num_ratings'] >= 100]\n",
    "top_20_movies = popular_movies.sort_values(by='avg_rating', ascending=False)[0:20]\n",
    "top_20_movies"
   ]
  },
  {
   "cell_type": "markdown",
   "id": "16e7d9dd-58f0-4fa0-bff4-93500bee3d11",
   "metadata": {},
   "source": [
    "Report: \n",
    "+ The output is top-20 movies sorted by their average rating, each of which has at least 100 reviews with \"Godfather, The (1972)\" being on top with average rating of 4.524966 and \"Stalag 17 (1953)\" being on last spot with average rating of 4.228426."
   ]
  },
  {
   "cell_type": "markdown",
   "id": "16817dae-dd0c-4840-a96e-421be60e5ef6",
   "metadata": {},
   "source": [
    "\n",
    "### Visualize the popularity (rating count) versus quality (average rating) of the top-20 best-rated movies you found in the previous problem."
   ]
  },
  {
   "cell_type": "markdown",
   "id": "405a3e22-2754-456a-951e-cfa723ce8be2",
   "metadata": {},
   "source": [
    "Steps to carry out:\n",
    "+ To Visualize the popularity (rating count) versus quality (average rating) of the top-20 best-rated movies found in the previous problem. we can create a seaborn.relplot where the x-axis represents the number of ratings and the y-axis represents the average rating. Each point on the plot will represent a movie, and the size and color of the point can be used to represent the number of ratings."
   ]
  },
  {
   "cell_type": "code",
   "execution_count": 6,
   "id": "238670b4-f7cb-47c2-bf4a-bbeaa426f3cb",
   "metadata": {},
   "outputs": [
    {
     "data": {
      "image/png": "[encoded data removed]",
      "text/plain": [
       "<Figure size 606x360 with 1 Axes>"
      ]
     },
     "metadata": {
      "needs_background": "light"
     },
     "output_type": "display_data"
    }
   ],
   "source": [
    "import seaborn\n",
    "from matplotlib import pyplot\n",
    "\n",
    "\n",
    "seaborn.relplot(data=top_20_movies, x='num_ratings', y='avg_rating',hue='title')\n",
    "pyplot.title('Visualisation of the popularity versus quality of the top 20 best rated movies') \n",
    "pyplot.show()"
   ]
  },
  {
   "cell_type": "markdown",
   "id": "6f08c387-ece5-4497-b7ea-5cd263914b94",
   "metadata": {},
   "source": [
    "Report: \n",
    "\n",
    "+ We can see that most of the top-20 movies have a high average rating above 4.0, and a large number of ratings, less than 1000 in most cases. This suggests that movies that are both popular and highly rated tend to appeal to a large and diverse audience.\n",
    "+ One interesting observation from the plot is that there are a two movies that stand out as being much more popular and highly ratedthan the others, with more than 4.50 average rating and above 2000 reviews. These movies include \"Godfather, The (1972)\", and \"Schindler's List (1993)\". Overall, Seaborn relplot provides a useful visualization of the relationship between popularity and quality, and can help us to understand the characteristics of highly rated movies."
   ]
  },
  {
   "cell_type": "markdown",
   "id": "88d6c2a8-0e7b-4140-85ba-51debb5c908c",
   "metadata": {},
   "source": [
    "\n",
    "\n",
    "### Based on your findings in the previous problem, recommend 4 movies that your friends should see.  Providing a simple justification for your recommendation based on your analysis."
   ]
  },
  {
   "cell_type": "markdown",
   "id": "b3ce1ed8-a4ca-447f-b3bb-1259dc8d398d",
   "metadata": {},
   "source": [
    "I will recommend these four movies \n",
    "+ Kagemusha (1980) \n",
    "+ When We Were Kings (1996) \n",
    "+ Ran (1985) \n",
    "+ Stop Making Sense (1984)\n",
    "\n",
    "to my friends because these four movies have high average rating with less number ratings when compared to other top 20 movies.\n",
    "\n",
    "These films has widespread appeal is mainly owing to a variety of factors, including their positive critical response, distinctive and artistic visuals, and capacity to explore important themes and tell compelling stories."
   ]
  },
  {
   "cell_type": "markdown",
   "id": "4c3af4f1-bbb7-4e67-957a-419a575cec60",
   "metadata": {},
   "source": [
    "\n",
    "### Among the 4 movies you recommended, on average, which ones are preferred by males and which ones are prefered by females?\n",
    "\n"
   ]
  },
  {
   "cell_type": "markdown",
   "id": "c2b7886f-b9ca-4e0d-8421-0c1e6ea52a89",
   "metadata": {},
   "source": [
    "Steps to carry out:\n",
    "\n",
    "+ Filter the ratings data to include only the four movies we recommended 'Kagemusha (1980)' , 'When We Were Kings (1996)', 'Ran (1985)', 'Stop Making Sense (1984)'.\n",
    "+ Join the filtered ratings data with the user data to obtain the gender of each user.\n",
    "+ Then we calculate the average rating given by male and female viewers separately for each of the four movies."
   ]
  },
  {
   "cell_type": "code",
   "execution_count": 34,
   "id": "820e9ed1-7b0a-46dc-8a2d-a155193d6794",
   "metadata": {},
   "outputs": [
    {
     "data": {
      "text/plain": [
       "title                      gender\n",
       "Kagemusha (1980)           F         4.421053\n",
       "Ran (1985)                 F         4.365079\n",
       "When We Were Kings (1996)  M         4.346491\n",
       "Stop Making Sense (1984)   F         4.333333\n",
       "Kagemusha (1980)           M         4.262295\n",
       "Ran (1985)                 M         4.248299\n",
       "When We Were Kings (1996)  F         4.204082\n",
       "Stop Making Sense (1984)   M         4.203297\n",
       "Name: rating, dtype: float64"
      ]
     },
     "execution_count": 34,
     "metadata": {},
     "output_type": "execute_result"
    }
   ],
   "source": [
    "df = ['Kagemusha (1980)' , 'When We Were Kings (1996)', 'Ran (1985)', 'Stop Making Sense (1984)']\n",
    "filtered_ratings = data[ data['title'].isin(df)]\n",
    "mr = pandas.merge(filtered_ratings, users)\n",
    "avg_ratings = mr.groupby(['title','gender'])['rating'].mean().sort_values(ascending=False)\n",
    "avg_ratings"
   ]
  },
  {
   "cell_type": "markdown",
   "id": "7f9ab365-df73-4bee-bde6-58b20f3f430d",
   "metadata": {},
   "source": [
    "Report:\n",
    "+ We can see that for three out of the four movies, females have given higher ratings than males. This suggests that these movies may be more appealing to female viewers. \n",
    "+ \"When We Were Kings (1996)\" males have given a higher rating than females. This suggests that this movie may be more appealing to male viewers.\n",
    "+ Female viewers prefer \"Kagemusha (1980)\" with their average rating being higher than that of male viewers.\n",
    "+ Therefore \"Kagemusha (1980)\", \"Ran (1985)\", and \"Stop Making Sense (1984)\" are preferred by females, while \"When We Were Kings (1996)\" is preferred by males\n",
    "\n"
   ]
  },
  {
   "cell_type": "markdown",
   "id": "b67194b1-b3bd-4e6a-ac4a-37c8ee151536",
   "metadata": {},
   "source": [
    "\n",
    "\n",
    "### Among the 4 movies you recommended, on average, (A) which movie is most liked by the 18 age-group?  (B) which movie is most liked by all age groups?\n"
   ]
  },
  {
   "cell_type": "markdown",
   "id": "11189f49-ac3e-40cf-b768-2cd8cdbd1d25",
   "metadata": {},
   "source": [
    "(A)Steps to carry out:\n",
    "\n",
    "+ Filter the ratings data to include only the four movies we recommended ('Kagemusha (1980)' , 'When We Were Kings (1996)', 'Ran (1985)', 'Stop Making Sense (1984)').\n",
    "+ Join the filtered ratings data with the user data to obtain the age of each user.\n",
    "+ Then we calculate the average rating given by viewers in the 18 age-group."
   ]
  },
  {
   "cell_type": "code",
   "execution_count": 7,
   "id": "5b2e92a2-5414-4f86-99fe-cf67fe82cd84",
   "metadata": {},
   "outputs": [
    {
     "data": {
      "text/plain": [
       "title\n",
       "Ran (1985)                   4.447368\n",
       "When We Were Kings (1996)    4.406250\n",
       "Kagemusha (1980)             4.153846\n",
       "Stop Making Sense (1984)     4.000000\n",
       "Name: rating, dtype: float64"
      ]
     },
     "execution_count": 7,
     "metadata": {},
     "output_type": "execute_result"
    }
   ],
   "source": [
    "df = ['Kagemusha (1980)' , 'When We Were Kings (1996)', 'Ran (1985)', 'Stop Making Sense (1984)']\n",
    "mr = data[ data['title'].isin(df)]\n",
    "age = mr[mr['age'] == 18]\n",
    "Most_popular_movie = age.groupby('title')['rating'].mean().sort_values(ascending=False)\n",
    "Most_popular_movie"
   ]
  },
  {
   "cell_type": "markdown",
   "id": "9f8b80c2-f49b-43c2-a4aa-208f2534ba01",
   "metadata": {},
   "source": [
    "Report: \n",
    "+ \"Ran (1985)\" is most liked by viewers in the 18 age group, with an average rating of 4.44. This means that this film is appropriate for younger audiences and would be a decent suggestion for someone under the age of 18."
   ]
  },
  {
   "cell_type": "markdown",
   "id": "2f5310dc-6652-4edb-9047-db81a55eb912",
   "metadata": {},
   "source": [
    "(B)Steps to carry out:\n",
    "+ Filter the ratings data to include only the four movies we recommended ('Kagemusha (1980)' , 'When We Were Kings (1996)', 'Ran (1985)', 'Stop Making Sense (1984)').\n",
    "+ Then calculate the average rating for each of the four movies across all age groups."
   ]
  },
  {
   "cell_type": "code",
   "execution_count": 8,
   "id": "e9550c77-4821-4cbf-92f4-6bb1ce192b46",
   "metadata": {},
   "outputs": [
    {
     "data": {
      "text/plain": [
       "title\n",
       "When We Were Kings (1996)    4.321300\n",
       "Kagemusha (1980)             4.283688\n",
       "Ran (1985)                   4.268908\n",
       "Stop Making Sense (1984)     4.234310\n",
       "Name: rating, dtype: float64"
      ]
     },
     "execution_count": 8,
     "metadata": {},
     "output_type": "execute_result"
    }
   ],
   "source": [
    "df = ['Kagemusha (1980)' , 'When We Were Kings (1996)', 'Ran (1985)', 'Stop Making Sense (1984)']\n",
    "mr = data[ data['title'].isin(df)]\n",
    "Most_popular_movie = mr.groupby('title')['rating'].mean().sort_values(ascending=False)\n",
    "Most_popular_movie"
   ]
  },
  {
   "cell_type": "markdown",
   "id": "03a1e3fa-5b9a-432c-a6e0-0377e7f71bc4",
   "metadata": {},
   "source": [
    "Report:\n",
    "+ Among viewers in all age groups, 'When We Were Kings (1996)' is the most liked movie, with the average rating being the highest compared to the other three movies.\n"
   ]
  }
 ],
 "metadata": {
  "kernelspec": {
   "display_name": "Python 3 (ipykernel)",
   "language": "python",
   "name": "python3"
  },
  "language_info": {
   "codemirror_mode": {
    "name": "ipython",
    "version": 3
   },
   "file_extension": ".py",
   "mimetype": "text/x-python",
   "name": "python",
   "nbconvert_exporter": "python",
   "pygments_lexer": "ipython3",
   "version": "3.9.12"
  }
 },
 "nbformat": 4,
 "nbformat_minor": 5
}
